{
  "nbformat": 4,
  "nbformat_minor": 0,
  "metadata": {
    "colab": {
      "provenance": [],
      "authorship_tag": "ABX9TyNvsaLbh2TP5U5ARDt+OoQT",
      "include_colab_link": true
    },
    "kernelspec": {
      "name": "python3",
      "display_name": "Python 3"
    },
    "language_info": {
      "name": "python"
    }
  },
  "cells": [
    {
      "cell_type": "markdown",
      "metadata": {
        "id": "view-in-github",
        "colab_type": "text"
      },
      "source": [
        "<a href=\"https://colab.research.google.com/github/KavVinayKathik/FML/blob/main/Noise_Removal%5BStopwords%20and%20Punctuation%5D.ipynb\" target=\"_parent\"><img src=\"https://colab.research.google.com/assets/colab-badge.svg\" alt=\"Open In Colab\"/></a>"
      ]
    },
    {
      "cell_type": "code",
      "execution_count": 8,
      "metadata": {
        "colab": {
          "base_uri": "https://localhost:8080/"
        },
        "id": "kpawGfqgG6Va",
        "outputId": "1f5ee5e8-b00c-47a0-98ef-54f659545db5"
      },
      "outputs": [
        {
          "output_type": "stream",
          "name": "stderr",
          "text": [
            "[nltk_data] Downloading package stopwords to /root/nltk_data...\n",
            "[nltk_data]   Package stopwords is already up-to-date!\n",
            "[nltk_data] Downloading package punkt to /root/nltk_data...\n",
            "[nltk_data]   Unzipping tokenizers/punkt.zip.\n"
          ]
        }
      ],
      "source": [
        "import nltk\n",
        "nltk.download('stopwords')\n",
        "nltk.download('punkt')\n",
        "from nltk.tokenize import word_tokenize\n",
        "from nltk.corpus import stopwords"
      ]
    },
    {
      "cell_type": "code",
      "source": [
        "import string\n",
        "stop_words = set(stopwords.words('english'))\n",
        "text = \"We are learning Natural Language Processing;as part of Fundamentals of Machine Learning ,in our second year B.Tech.\"\n",
        "word_tokens = word_tokenize(text)\n",
        "print(word_tokens)\n",
        "\n",
        "filtered_sent = []\n",
        "for i in word_tokens:\n",
        "  if i not in stop_words and i not in string.punctuation:\n",
        "      filtered_sent.append(i)\n",
        "print(filtered_sent)\n"
      ],
      "metadata": {
        "colab": {
          "base_uri": "https://localhost:8080/"
        },
        "id": "tSTu3FYXHnhm",
        "outputId": "e8601d70-ebf1-459f-9fb8-007b7d86790e"
      },
      "execution_count": 15,
      "outputs": [
        {
          "output_type": "stream",
          "name": "stdout",
          "text": [
            "['We', 'are', 'learning', 'Natural', 'Language', 'Processing', ';', 'as', 'part', 'of', 'Fundamentals', 'of', 'Machine', 'Learning', ',', 'in', 'our', 'second', 'year', 'B.Tech', '.']\n",
            "['We', 'learning', 'Natural', 'Language', 'Processing', 'part', 'Fundamentals', 'Machine', 'Learning', 'second', 'year', 'B.Tech']\n"
          ]
        }
      ]
    }
  ]
}